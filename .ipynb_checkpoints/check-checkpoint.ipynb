{
 "cells": [
  {
   "cell_type": "markdown",
   "metadata": {},
   "source": [
    "# 1. Insert Boolean logic text\n",
    "### (1) Spacing is required between parentheses, names, and logic operators.\n",
    "    \n",
    "    ex) \"A = ( B and ( not C or D ) ) and E\"\n",
    "\n",
    "### (2) Set the state (\"True\" or \"False\") of the input nodes.\n",
    "\n",
    "    ex) \"A = False\""
   ]
  },
  {
   "cell_type": "code",
   "execution_count": 1,
   "metadata": {},
   "outputs": [],
   "source": [
    "# Boolean network model for MAPK with EGFR GoF and p53 LoF\n",
    "booleanlogic = '''\n",
    "AKT = PDK1 and not PTEN\n",
    "AP1 = JUN and  ( FOS or ATF2 ) \n",
    "Apoptosis = not BCL2 and not ERK and FOXO3 and p53\n",
    "ATF2 = JNK or p38\n",
    "ATM = DNA_damage\n",
    "BCL2 = CREB and AKT\n",
    "CREB = MSK\n",
    "DNA_damage = False\n",
    "DUSP1 = CREB\n",
    "EGFR =  True\n",
    "EGFR_stimulus = False\n",
    "ELK1 = ERK or JNK or p38\n",
    "ERK = MEK1_2\n",
    "FGFR3 = FGFR3_stimulus and not  ( GRB2 or PKC ) \n",
    "FGFR3_stimulus = False\n",
    "FOS = ERK and RSK and  ( ELK1 or CREB ) \n",
    "FOXO3 = JNK and not AKT\n",
    "FRS2 = FGFR3 and not SPRY and not GRB2\n",
    "GAB1 = GRB2 or PI3K\n",
    "GADD45 = SMAD or p53\n",
    "GRB2 = EGFR or FRS2 or TGFBR\n",
    "Growth_Arrest = p21\n",
    "JNK =  ( TAOK and MAP3K1_3 )  or  ( MAP3K1_3 and MTK1 )  or  ( TAOK and MTK1 )  or  ( TAK1 and MTK1 )  or  ( TAK1 and MAP3K1_3 )  or  ( TAK1 and TAOK )  or  (  ( TAOK or MTK1 or MAP3K1_3 or TAK1 )  and not DUSP1 ) \n",
    "JUN = JNK\n",
    "MAP3K1_3 = RAS\n",
    "MAX = p38\n",
    "MDM2 =  ( p53 or AKT )  and not p14\n",
    "MEK1_2 =  ( RAF or MAP3K1_3 )  and not  ( PPP2CA or AP1 ) \n",
    "MSK = ERK or p38\n",
    "MTK1 = GADD45\n",
    "MYC =  ( MSK and MAX )  or  ( MSK and AKT ) \n",
    "p14 = MYC\n",
    "p21 = not AKT and p53\n",
    "p38 =  ( TAOK and MAP3K1_3 )  or  ( MAP3K1_3 and MTK1 )  or  ( TAOK and MTK1 )  or  ( TAK1 and MTK1 )  or  ( TAK1 and MAP3K1_3 )  or  ( TAK1 and TAOK )  or  (  ( TAOK or MTK1 or MAP3K1_3 or TAK1 )  and not DUSP1 ) \n",
    "p53 =  False\n",
    "p70 = PDK1 and ERK\n",
    "PDK1 = PI3K\n",
    "PI3K = GAB1 or  ( RAS and SOS ) \n",
    "PKC = PLCG\n",
    "PLCG = EGFR or FGFR3\n",
    "PPP2CA = p38\n",
    "Proliferation = p70 and MYC and not p21\n",
    "PTEN = p53\n",
    "RAF =  ( RAS or PKC )  and not  ( ERK or AKT ) \n",
    "RAS = SOS or PLCG\n",
    "RSK = ERK\n",
    "SMAD = TGFBR\n",
    "SOS = GRB2 and not RSK\n",
    "SPRY = ERK\n",
    "TAK1 = TGFBR\n",
    "TAOK = ATM\n",
    "TGFBR = TGFBR_stimulus\n",
    "TGFBR_stimulus = False\n",
    "'''"
   ]
  },
  {
   "cell_type": "markdown",
   "metadata": {},
   "source": [
    "# 2. Preprocessing Boolean logic text\n",
    "### Change node names into number nodes\n",
    "(Please check booleanlogicNum before performing the following steps to avoid possible errors.)"
   ]
  },
  {
   "cell_type": "code",
   "execution_count": 2,
   "metadata": {},
   "outputs": [],
   "source": [
    "from dcgs import booleanlogic_preprocessing\n",
    "\n",
    "booleanlogicNum, node2num, num2node = booleanlogic_preprocessing.modeltext2nummodeltext(booleanlogic)\n",
    "dgraph, nodeList, inputNodeState = booleanlogic_preprocessing.get_interaction_network(booleanlogicNum)"
   ]
  },
  {
   "cell_type": "code",
   "execution_count": 3,
   "metadata": {},
   "outputs": [
    {
     "name": "stdout",
     "output_type": "stream",
     "text": [
      "\n",
      "n01 = n37 and not n43\n",
      "n02 = n24 and  ( n16 or n04 ) \n",
      "n03 = not n06 and not n13 and n17 and n35\n",
      "n04 = n23 or n34\n",
      "n05 = n08\n",
      "n06 = n07 and n01\n",
      "n07 = n29\n",
      "n08 = False\n",
      "n09 = n07\n",
      "n10 =  True\n",
      "n11 = False\n",
      "n12 = n13 or n23 or n34\n",
      "n13 = n28\n",
      "n14 = n15 and not  ( n21 or n39 ) \n",
      "n15 = False\n",
      "n16 = n13 and n46 and  ( n12 or n07 ) \n",
      "n17 = n23 and not n01\n",
      "n18 = n14 and not n49 and not n21\n",
      "n19 = n21 or n38\n",
      "n20 = n47 or n35\n",
      "n21 = n10 or n18 or n52\n",
      "n22 = n33\n",
      "n23 =  ( n51 and n25 )  or  ( n25 and n30 )  or  ( n51 and n30 )  or  ( n50 and n30 )  or  ( n50 and n25 )  or  ( n50 and n51 )  or  (  ( n51 or n30 or n25 or n50 )  and not n09 ) \n",
      "n24 = n23\n",
      "n25 = n45\n",
      "n26 = n34\n",
      "n27 =  ( n35 or n01 )  and not n32\n",
      "n28 =  ( n44 or n25 )  and not  ( n41 or n02 ) \n",
      "n29 = n13 or n34\n",
      "n30 = n20\n",
      "n31 =  ( n29 and n26 )  or  ( n29 and n01 ) \n",
      "n32 = n31\n",
      "n33 = not n01 and n35\n",
      "n34 =  ( n51 and n25 )  or  ( n25 and n30 )  or  ( n51 and n30 )  or  ( n50 and n30 )  or  ( n50 and n25 )  or  ( n50 and n51 )  or  (  ( n51 or n30 or n25 or n50 )  and not n09 ) \n",
      "n35 =  False\n",
      "n36 = n37 and n13\n",
      "n37 = n38\n",
      "n38 = n19 or  ( n45 and n48 ) \n",
      "n39 = n40\n",
      "n40 = n10 or n14\n",
      "n41 = n34\n",
      "n42 = n36 and n31 and not n33\n",
      "n43 = n35\n",
      "n44 =  ( n45 or n39 )  and not  ( n13 or n01 ) \n",
      "n45 = n48 or n40\n",
      "n46 = n13\n",
      "n47 = n52\n",
      "n48 = n21 and not n46\n",
      "n49 = n13\n",
      "n50 = n52\n",
      "n51 = n05\n",
      "n52 = n53\n",
      "n53 = False\n",
      "\n"
     ]
    }
   ],
   "source": [
    "print(booleanlogicNum)"
   ]
  },
  {
   "cell_type": "markdown",
   "metadata": {},
   "source": [
    "# 3. Get minimal feedback vertex sets (FVSs)\n",
    "### Get FVSs of each strongly connected component and combine them."
   ]
  },
  {
   "cell_type": "code",
   "execution_count": 4,
   "metadata": {},
   "outputs": [
    {
     "name": "stdout",
     "output_type": "stream",
     "text": [
      "minimal FVS example:  ['n14', 'n18', 'n19', 'n28', 'n34']\n"
     ]
    }
   ],
   "source": [
    "from dcgs import sccTofvs\n",
    "dic_hierarchy, dic_fvs, minimal_fvs = sccTofvs.scc2fvs_bruteforce(dgraph)\n",
    "print('minimal FVS example: ',minimal_fvs)"
   ]
  },
  {
   "cell_type": "markdown",
   "metadata": {},
   "source": [
    "# 4. Get point attractors\n",
    "### Get point attractors from canalized state set of FVS"
   ]
  },
  {
   "cell_type": "markdown",
   "metadata": {},
   "source": [
    "#### From the reduced model (17 nodes) of the original paper, there are two point attractors with EGFR (True).\n",
    "(https://journals.plos.org/ploscompbiol/article?id=10.1371/journal.pcbi.1003286#s5)\n",
    "\n",
    "#### Here, we get two point attractors with EGFR (True) from the original model (53 nodes).\n",
    "* Apoptosis: 01110010110100001011111111001111111011111011100100000\n",
    "* Proliferation : 10000110110110010010100010011011000111110100110010000"
   ]
  },
  {
   "cell_type": "code",
   "execution_count": 5,
   "metadata": {
    "scrolled": true
   },
   "outputs": [
    {
     "name": "stdout",
     "output_type": "stream",
     "text": [
      "Point attractors:  ['10000110110110010010100010011011000111110100110010000']\n"
     ]
    }
   ],
   "source": [
    "from dcgs import attractorlandscapeSeeker\n",
    "CSS, state_origin = attractorlandscapeSeeker.get_canalized_states(booleanlogicNum, dgraph, nodeList, inputNodeState, [minimal_fvs])\n",
    "paStr,paDic = attractorlandscapeSeeker.get_pointattractorFromCSS(booleanlogicNum, CSS)\n",
    "print('Point attractors: ',paStr)"
   ]
  },
  {
   "cell_type": "markdown",
   "metadata": {},
   "source": [
    "# 5. Get control sets for global stabilization using DCGS\n",
    "### Get control sets (canalizing sets) for global stabilization of a target attractor\n"
   ]
  },
  {
   "cell_type": "markdown",
   "metadata": {},
   "source": [
    "#### We will find global stabilizing control node sets for the Proliferation attractor.\n",
    "#### In the reduced model of theoriginal paper, LoF of p53 (False) or p14 (False) globally stabilized the network to the Proliferation attractor.\n",
    "#### In the original model, we get 7 node sets which mostly include p53 but not p14."
   ]
  },
  {
   "cell_type": "code",
   "execution_count": 6,
   "metadata": {},
   "outputs": [
    {
     "ename": "IndexError",
     "evalue": "list index out of range",
     "output_type": "error",
     "traceback": [
      "\u001b[1;31m---------------------------------------------------------------------------\u001b[0m",
      "\u001b[1;31mIndexError\u001b[0m                                Traceback (most recent call last)",
      "\u001b[1;32m<ipython-input-6-6d2e46d7beaf>\u001b[0m in \u001b[0;36m<module>\u001b[1;34m\u001b[0m\n\u001b[0;32m      1\u001b[0m \u001b[1;32mfrom\u001b[0m \u001b[0mdcgs\u001b[0m \u001b[1;32mimport\u001b[0m \u001b[0mMain\u001b[0m\u001b[1;33m\u001b[0m\u001b[1;33m\u001b[0m\u001b[0m\n\u001b[1;32m----> 2\u001b[1;33m \u001b[0mtargetattractor\u001b[0m \u001b[1;33m=\u001b[0m \u001b[0mpaStr\u001b[0m\u001b[1;33m[\u001b[0m\u001b[1;36m1\u001b[0m\u001b[1;33m]\u001b[0m\u001b[1;33m\u001b[0m\u001b[1;33m\u001b[0m\u001b[0m\n\u001b[0m\u001b[0;32m      3\u001b[0m \u001b[0mdic_CS\u001b[0m\u001b[1;33m,\u001b[0m\u001b[0mdic_cCS\u001b[0m\u001b[1;33m,\u001b[0m \u001b[0mdic_fvs\u001b[0m \u001b[1;33m=\u001b[0m \u001b[0mMain\u001b[0m\u001b[1;33m.\u001b[0m\u001b[0malgorithm\u001b[0m\u001b[1;33m(\u001b[0m\u001b[0mbooleanlogicNum\u001b[0m\u001b[1;33m,\u001b[0m \u001b[0mtargetattractor\u001b[0m\u001b[1;33m)\u001b[0m\u001b[1;33m\u001b[0m\u001b[1;33m\u001b[0m\u001b[0m\n",
      "\u001b[1;31mIndexError\u001b[0m: list index out of range"
     ]
    }
   ],
   "source": [
    "from dcgs import Main\n",
    "targetattractor = paStr[1]\n",
    "dic_CS,dic_cCS, dic_fvs = Main.algorithm(booleanlogicNum, targetattractor)"
   ]
  },
  {
   "cell_type": "code",
   "execution_count": null,
   "metadata": {},
   "outputs": [],
   "source": [
    "import copy\n",
    "controlSet = []\n",
    "for scc in dic_CS:\n",
    "    csList = dic_CS[scc]\n",
    "    if csList == [[]]:\n",
    "        continue\n",
    "    if controlSet == []:\n",
    "        controlSet = csList.copy()\n",
    "        continue\n",
    "    newcontrolSetlist = []\n",
    "    controlSet_copy = controlSet.copy()\n",
    "    for cs in csList:\n",
    "        for cs_origin in controlSet_copy:\n",
    "            newcontrolSetlist.append(cs_origin+cs)\n",
    "    controlSet = newcontrolSetlist.copy()\n",
    "controlset_filtered = []\n",
    "controlset_filtered_genesymbol= []\n",
    "for x in controlSet:\n",
    "    if x not in controlset_filtered:\n",
    "        controlset_filtered_genesymbol.append([num2node[str(int(n[1:]))]+' (%s)'%targetattractor[int(n[1:]-1)] for n in x])\n",
    "        controlset_filtered.append(x)\n",
    "print(controlset_filtered_genesymbol)"
   ]
  },
  {
   "cell_type": "markdown",
   "metadata": {},
   "source": [
    "#### Furthermore, we will find global stabilizing control node sets for the Apoptosis attractor.\n",
    "#### In the original model, GoF of p58 (True) or p38(True) globally stabilized the network to the Apoptosis attractor."
   ]
  },
  {
   "cell_type": "code",
   "execution_count": null,
   "metadata": {},
   "outputs": [],
   "source": [
    "from dcgs import Main\n",
    "targetattractor = paStr[0]\n",
    "dic_CS,dic_cCS, dic_fvs = Main.algorithm(booleanlogicNum, targetattractor)"
   ]
  },
  {
   "cell_type": "code",
   "execution_count": null,
   "metadata": {},
   "outputs": [],
   "source": [
    "import copy\n",
    "controlSet = []\n",
    "for scc in dic_CS:\n",
    "    csList = dic_CS[scc]\n",
    "    if csList == [[]]:\n",
    "        continue\n",
    "    if controlSet == []:\n",
    "        controlSet = csList.copy()\n",
    "        continue\n",
    "    newcontrolSetlist = []\n",
    "    controlSet_copy = controlSet.copy()\n",
    "    for cs in csList:\n",
    "        for cs_origin in controlSet_copy:\n",
    "            newcontrolSetlist.append(cs_origin+cs)\n",
    "    controlSet = newcontrolSetlist.copy()\n",
    "controlset_filtered = []\n",
    "controlset_filtered_genesymbol= []\n",
    "for x in controlSet:\n",
    "    if x not in controlset_filtered:\n",
    "        controlset_filtered_genesymbol.append([num2node[str(int(n[1:]))]+' (%s)'%targetattractor[int(n[1:]-1)] for n in x])\n",
    "        controlset_filtered.append(x)\n",
    "print(controlset_filtered_genesymbol)"
   ]
  }
 ],
 "metadata": {
  "kernelspec": {
   "display_name": "Python 3",
   "language": "python",
   "name": "python3"
  },
  "language_info": {
   "codemirror_mode": {
    "name": "ipython",
    "version": 3
   },
   "file_extension": ".py",
   "mimetype": "text/x-python",
   "name": "python",
   "nbconvert_exporter": "python",
   "pygments_lexer": "ipython3",
   "version": "3.8.8"
  }
 },
 "nbformat": 4,
 "nbformat_minor": 2
}
