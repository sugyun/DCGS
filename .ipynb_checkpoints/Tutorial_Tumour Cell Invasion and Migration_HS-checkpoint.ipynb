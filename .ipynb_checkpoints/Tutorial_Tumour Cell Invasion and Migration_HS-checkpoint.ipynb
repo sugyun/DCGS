{
 "cells": [
  {
   "cell_type": "markdown",
   "metadata": {},
   "source": [
    "# 1. Insert Boolean logic text\n",
    "### (1) Spacing is required between parentheses, names, and logic operators.\n",
    "    \n",
    "    ex) \"A = ( B and ( not C or D ) ) and E\"\n",
    "\n",
    "### (2) Set the state (\"True\" or \"False\") of the input nodes.\n",
    "\n",
    "    ex) \"A = False\""
   ]
  },
  {
   "cell_type": "code",
   "execution_count": 8,
   "metadata": {},
   "outputs": [],
   "source": [
    "# Boolean network model for Tumour Cell Invasion and Migration\n",
    "booleanlogic = '''\n",
    "Metastasis = ( Migration ) \n",
    "Migration = ( ( ( ( VIM and ( ( ( AKT2  and Invasion  and EMT  and ERK ) ) )     ) and not ( p63  )  ) and not ( miR200  )  ) and not ( AKT1  ) ) \n",
    "Invasion = ( CTNNB1 )  or ( SMAD and ( ( ( CDH2 ) ) )    ) \n",
    "EMT = ( ( CDH2  ) and not ( CDH1  ) ) \n",
    "Apoptosis = ( ( ( ( p63  ) and not ( AKT1  )  ) and not ( ZEB2  )  ) and not ( ERK  ) )  or ( ( ( ( miR34  ) and not ( AKT1  )  ) and not ( ZEB2  )  ) and not ( ERK  ) )  or ( ( ( ( p73  ) and not ( AKT1  )  ) and not ( ZEB2  )  ) and not ( ERK  ) )  or ( ( ( ( miR200  ) and not ( AKT1  )  ) and not ( ZEB2  )  ) and not ( ERK  ) )  or ( ( ( ( p53  ) and not ( AKT1  )  ) and not ( ZEB2  )  ) and not ( ERK  ) ) \n",
    "CellCycleArrest = ( ( ZEB2  ) and not ( AKT1  ) )  or ( ( p21  ) and not ( AKT1  ) )  or ( ( miR200  ) and not ( AKT1  ) )  or ( ( miR203  ) and not ( AKT1  ) )  or ( ( miR34  ) and not ( AKT1  ) ) \n",
    "ECM = False\n",
    "DNAdamage = False\n",
    "GF = ( ( GF  ) and not ( CDH1  ) )  or ( ( CDH2  ) and not ( CDH1  ) ) \n",
    "TGFbeta = ( ( ECM  ) and not ( CTNNB1  ) )  or ( ( NICD  ) and not ( CTNNB1  ) ) \n",
    "p21 = ( ( ( p73  ) and not ( AKT1  )  ) and not ( ERK  ) )  or ( ( ( SMAD and ( ( ( NICD ) ) )     ) and not ( AKT1  )  ) and not ( ERK  ) )  or ( ( ( p53  ) and not ( AKT1  )  ) and not ( ERK  ) )  or ( ( ( AKT2  ) and not ( AKT1  )  ) and not ( ERK  ) )  or ( ( ( p63  ) and not ( AKT1  )  ) and not ( ERK  ) ) \n",
    "CDH1 =  not ( ( TWIST1 )  or ( SNAI1 )  or ( AKT2 )  or ( ZEB1 )  or ( SNAI2 )  or ( ZEB2 ) )\n",
    "CDH2 = ( TWIST1 ) \n",
    "VIM = ( ZEB2 )  or ( CTNNB1 ) \n",
    "TWIST1 = ( SNAI1 )  or ( CTNNB1 )  or ( NICD ) \n",
    "SNAI1 = ( ( ( ( ( NICD  ) and not ( CTNNB1  )  ) and not ( miR34  )  ) and not ( p53  )  ) and not ( miR203  ) )  or ( ( ( ( ( TWIST1  ) and not ( CTNNB1  )  ) and not ( miR34  )  ) and not ( p53  )  ) and not ( miR203  ) ) \n",
    "SNAI2 = ( ( ( ( CTNNB1  ) and not ( p53  )  ) and not ( miR203  )  ) and not ( miR200  ) )  or ( ( ( ( NICD  ) and not ( p53  )  ) and not ( miR203  )  ) and not ( miR200  ) )  or ( ( ( ( TWIST1  ) and not ( p53  )  ) and not ( miR203  )  ) and not ( miR200  ) ) \n",
    "ZEB1 = ( ( TWIST1 and ( ( ( SNAI1 ) ) )     ) and not ( miR200  ) )  or ( ( CTNNB1  ) and not ( miR200  ) )  or ( ( SNAI2  ) and not ( miR200  ) )  or ( ( NICD  ) and not ( miR200  ) ) \n",
    "ZEB2 = ( ( ( NICD  ) and not ( miR200  )  ) and not ( miR203  ) )  or ( ( ( SNAI2 and ( ( ( TWIST1 ) ) )     ) and not ( miR200  )  ) and not ( miR203  ) )  or ( ( ( SNAI1  ) and not ( miR200  )  ) and not ( miR203  ) ) \n",
    "AKT1 = ( ( ( ( CTNNB1 and ( ( ( CDH2 ) )  or ( ( NICD ) )  or ( ( TGFbeta ) )  or ( ( GF ) ) )     ) and not ( miR34  )  ) and not ( CDH1  )  ) and not ( p53  ) ) \n",
    "DKK1 = ( NICD )  or ( CTNNB1 ) \n",
    "CTNNB1 =  not ( ( p63 )  or ( AKT1 )  or ( miR34 )  or ( miR200 )  or ( DKK1 )  or ( CDH1 )  or ( CDH2 )  or ( p53 ) )\n",
    "NICD = ( ( ( ( ( ( ECM  ) and not ( p63  )  ) and not ( p53  )  ) and not ( miR34  )  ) and not ( p73  )  ) and not ( miR200  ) ) \n",
    "p63 = ( ( ( ( ( ( DNAdamage  ) and not ( AKT1  )  ) and not ( miR203  )  ) and not ( p53  )  ) and not ( AKT2  )  ) and not ( NICD  ) ) \n",
    "p53 = ( ( ( ( ( CTNNB1  ) and not ( SNAI2  )  ) and not ( AKT2  )  ) and not ( p73  )  ) and not ( AKT1  ) )  or ( ( ( ( ( NICD  ) and not ( SNAI2  )  ) and not ( AKT2  )  ) and not ( p73  )  ) and not ( AKT1  ) )  or ( ( ( ( ( DNAdamage  ) and not ( SNAI2  )  ) and not ( AKT2  )  ) and not ( p73  )  ) and not ( AKT1  ) )  or ( ( ( ( ( miR34  ) and not ( SNAI2  )  ) and not ( AKT2  )  ) and not ( p73  )  ) and not ( AKT1  ) ) \n",
    "p73 = ( ( ( ( ( DNAdamage  ) and not ( AKT2  )  ) and not ( ZEB1  )  ) and not ( AKT1  )  ) and not ( p53  ) ) \n",
    "miR200 = ( ( ( ( ( ( p63  ) and not ( SNAI1  )  ) and not ( AKT2  )  ) and not ( ZEB1  )  ) and not ( SNAI2  )  ) and not ( ZEB2  ) )  or ( ( ( ( ( ( p73  ) and not ( SNAI1  )  ) and not ( AKT2  )  ) and not ( ZEB1  )  ) and not ( SNAI2  )  ) and not ( ZEB2  ) )  or ( ( ( ( ( ( p53  ) and not ( SNAI1  )  ) and not ( AKT2  )  ) and not ( ZEB1  )  ) and not ( SNAI2  )  ) and not ( ZEB2  ) ) \n",
    "miR203 = ( ( ( ( p53  ) and not ( ZEB2  )  ) and not ( ZEB1  )  ) and not ( SNAI1  ) ) \n",
    "miR34 = ( ( ( AKT2 and ( ( ( not SNAI1  and not ZEB1  and not ZEB2 )  and (  ( ( p73  or p53 ) ) ) ) )     ) and not ( p63  )  ) and not ( AKT1  ) ) \n",
    "AKT2 = ( TWIST1 and ( ( ( CDH2  or GF  or TGFbeta )  and (  ( ( not miR34  and not miR203  and not p53 ) ) ) ) )    ) \n",
    "ERK = ( ( SMAD  ) and not ( AKT1  ) )  or ( ( GF  ) and not ( AKT1  ) )  or ( ( CDH2  ) and not ( AKT1  ) )  or ( ( NICD  ) and not ( AKT1  ) ) \n",
    "SMAD = ( ( ( TGFbeta  ) and not ( miR200  )  ) and not ( miR203  ) ) \n",
    "'''"
   ]
  },
  {
   "cell_type": "markdown",
   "metadata": {},
   "source": [
    "# 2. Preprocessing Boolean logic text\n",
    "### change node names into number nodes\n",
    "(Please check booleanlogicNum before performing the following steps to avoid possible errors.)"
   ]
  },
  {
   "cell_type": "code",
   "execution_count": 9,
   "metadata": {},
   "outputs": [],
   "source": [
    "from dcgs import booleanlogic_preprocessing\n",
    "\n",
    "booleanlogicNum, node2num, num2node = booleanlogic_preprocessing.modeltext2nummodeltext(booleanlogic)\n",
    "dgraph, nodeList, inputNodeState = booleanlogic_preprocessing.get_interaction_network(booleanlogicNum)"
   ]
  },
  {
   "cell_type": "code",
   "execution_count": 10,
   "metadata": {},
   "outputs": [
    {
     "name": "stdout",
     "output_type": "stream",
     "text": [
      "{'1': 'Metastasis', '2': 'Migration', '3': 'Invasion', '4': 'EMT', '5': 'Apoptosis', '6': 'CellCycleArrest', '7': 'ECM', '8': 'DNAdamage', '9': 'GF', '10': 'TGFbeta', '11': 'p21', '12': 'CDH1', '13': 'CDH2', '14': 'VIM', '15': 'TWIST1', '16': 'SNAI1', '17': 'SNAI2', '18': 'ZEB1', '19': 'ZEB2', '20': 'AKT1', '21': 'DKK1', '22': 'CTNNB1', '23': 'NICD', '24': 'p63', '25': 'p53', '26': 'p73', '27': 'miR200', '28': 'miR203', '29': 'miR34', '30': 'AKT2', '31': 'ERK', '32': 'SMAD'}\n"
     ]
    }
   ],
   "source": [
    "print(num2node)"
   ]
  },
  {
   "cell_type": "markdown",
   "metadata": {},
   "source": [
    "# 3. Get minimal feedback vertex sets (FVSs)\n",
    "### get FVSs of each strongly connected component and combine them."
   ]
  },
  {
   "cell_type": "code",
   "execution_count": 11,
   "metadata": {},
   "outputs": [
    {
     "name": "stdout",
     "output_type": "stream",
     "text": [
      "FVS of each SCC:  {'n01': [[]], 'n06': [[]], 'n05': [[]], 'n02': [[]], 'n11': [[]], 'n14': [[]], 'n04': [[]], 'n03': [[]], 'n31': [[]], 'n32': [[]], 'n17_n25_n19_n30_n09_n10_n27_n26_n12_n20_n16_n22_n28_n21_n24_n18_n13_n15_n29_n23': [['n25', 'n27', 'n09', 'n15', 'n22', 'n29', 'n28', 'n23'], ['n25', 'n27', 'n09', 'n16', 'n22', 'n29', 'n28', 'n23']], 'n07': [[]], 'n08': [[]]}\n",
      "FVS example:  ['n09', 'n15', 'n22', 'n23', 'n25', 'n27', 'n28', 'n29']\n"
     ]
    }
   ],
   "source": [
    "from dcgs import sccTofvs\n",
    "dic_hierarchy, dic_fvs, minimal_fvs = sccTofvs.scc2fvs_bruteforce(dgraph)\n",
    "print('FVS of each SCC: ',dic_fvs)\n",
    "print('FVS example: ',minimal_fvs)"
   ]
  },
  {
   "cell_type": "markdown",
   "metadata": {},
   "source": [
    "# 4. Get point attractors\n",
    "### get point attractors from canalized state set of FVS\n",
    "### According to the original paper, there are two point attractors with ECM (False) and DNA damage (False).\n",
    "#### (https://journals.plos.org/ploscompbiol/article?id=10.1371/journal.pcbi.1004571#sec027)\n",
    "* Homeostatic State (HS) : 00000000000100000000000000000000\n",
    "* EMT2: 00010100100011111110000000000110\n"
   ]
  },
  {
   "cell_type": "code",
   "execution_count": 12,
   "metadata": {
    "scrolled": true
   },
   "outputs": [
    {
     "name": "stdout",
     "output_type": "stream",
     "text": [
      "Point attractors:  ['00000000000100000000000000000000', '00010100100011111110000000000110']\n"
     ]
    }
   ],
   "source": [
    "from dcgs import attractorlandscapeSeeker\n",
    "CSS, state_origin = attractorlandscapeSeeker.get_canalized_states(booleanlogicNum, dgraph, nodeList, inputNodeState, [minimal_fvs])\n",
    "paStr,paDic = attractorlandscapeSeeker.get_pointattractorFromCSS(booleanlogicNum, CSS)\n",
    "print('Point attractors: ',paStr)"
   ]
  },
  {
   "cell_type": "markdown",
   "metadata": {},
   "source": [
    "# 5. Get control sets for global stabilization using DCGS\n",
    "### get control sets (canalizing sets) for global stabilization of a target attractor\n",
    "### We will find global stabilizing control node sets for homeostasis (HS attractor)."
   ]
  },
  {
   "cell_type": "code",
   "execution_count": 14,
   "metadata": {},
   "outputs": [
    {
     "name": "stdout",
     "output_type": "stream",
     "text": [
      "control sets (canalizing sets) for each FVS of each SCC:  {'n08': [[]], 'n07': [[]], 'n17_n25_n19_n30_n09_n10_n27_n26_n12_n20_n16_n22_n28_n21_n24_n18_n13_n15_n29_n23': [['n15', 'n22'], ['n16', 'n22']], 'n32': [[]], 'n31': [[]], 'n03': [[]], 'n04': [[]], 'n14': [[]], 'n11': [[]], 'n02': [[]], 'n05': [[]], 'n06': [[]], 'n01': [[]]}\n"
     ]
    }
   ],
   "source": [
    "from dcgs import Main\n",
    "targetattractor = paStr[0]\n",
    "dic_CS,dic_cCS, dic_fvs = Main.algorithm(booleanlogicNum, targetattractor)\n",
    "print('control sets (canalizing sets) for each FVS of each SCC: ',dic_CS)"
   ]
  },
  {
   "cell_type": "markdown",
   "metadata": {},
   "source": [
    "### aggregate canalizing sets of each SCC"
   ]
  },
  {
   "cell_type": "code",
   "execution_count": 15,
   "metadata": {},
   "outputs": [
    {
     "name": "stdout",
     "output_type": "stream",
     "text": [
      "[['TWIST1', 'CTNNB1'], ['SNAI1', 'CTNNB1']]\n"
     ]
    }
   ],
   "source": [
    "import copy\n",
    "controlSet = []\n",
    "for scc in dic_CS:\n",
    "    csList = dic_CS[scc]\n",
    "    if csList == [[]]:\n",
    "        continue\n",
    "    if controlSet == []:\n",
    "        controlSet = csList.copy()\n",
    "        continue\n",
    "    newcontrolSetlist = []\n",
    "    controlSet_copy = controlSet.copy()\n",
    "    for cs in csList:\n",
    "        for cs_origin in controlSet_copy:\n",
    "            newcontrolSetlist.append(cs_origin+cs)\n",
    "    controlSet = newcontrolSetlist.copy()\n",
    "controlset_filtered = []\n",
    "for x in controlSet:\n",
    "    if x not in controlset_filtered:\n",
    "        controlset_filtered.append([num2node[n[1:]] for n in x])\n",
    "print(controlset_filtered)"
   ]
  },
  {
   "cell_type": "markdown",
   "metadata": {},
   "source": [
    "### Both Twist1 and Snai1 are EMT regulator, of which mutation (GoF) leads to a significant increase in having the metastatic phenotype. \n",
    "### CTNNB1 (β-catenin) play a role in triggering the metastatic process by regulating invasion or migration."
   ]
  }
 ],
 "metadata": {
  "kernelspec": {
   "display_name": "Python 3",
   "language": "python",
   "name": "python3"
  },
  "language_info": {
   "codemirror_mode": {
    "name": "ipython",
    "version": 3
   },
   "file_extension": ".py",
   "mimetype": "text/x-python",
   "name": "python",
   "nbconvert_exporter": "python",
   "pygments_lexer": "ipython3",
   "version": "3.8.8"
  }
 },
 "nbformat": 4,
 "nbformat_minor": 2
}
