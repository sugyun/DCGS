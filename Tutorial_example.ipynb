{
 "cells": [
  {
   "cell_type": "markdown",
   "metadata": {},
   "source": [
    "# 1. Insert Boolean logic text\n",
    "### (1) Spacing is required between parentheses, names, and logic operators.\n",
    "    \n",
    "    ex) \"A = ( B and ( not C or D ) ) and E\"\n",
    "\n",
    "### (2) Set the state (\"True\" or \"False\") of the input nodes.\n",
    "\n",
    "    ex) \"A = False\""
   ]
  },
  {
   "cell_type": "code",
   "execution_count": 1,
   "metadata": {},
   "outputs": [],
   "source": [
    "# Boolean network example in figure 4\n",
    "booleanlogic = '''\n",
    "A = D\n",
    "B = not A\n",
    "C = A and not B\n",
    "D = C\n",
    "E = C or F or G\n",
    "F = not E\n",
    "G = G or F\n",
    "H = D or I\n",
    "I = F or H\n",
    "'''"
   ]
  },
  {
   "cell_type": "markdown",
   "metadata": {},
   "source": [
    "# 2. Preprocessing Boolean logic text\n",
    "### change node names into number nodes\n",
    "(Please check booleanlogicNum before performing the following steps to avoid possible errors.)"
   ]
  },
  {
   "cell_type": "code",
   "execution_count": 2,
   "metadata": {},
   "outputs": [
    {
     "name": "stdout",
     "output_type": "stream",
     "text": [
      "\n",
      "n1 = n4\n",
      "n2 = not n1\n",
      "n3 = n1 and not n2\n",
      "n4 = n3\n",
      "n5 = n3 or n6 or n7\n",
      "n6 = not n5\n",
      "n7 = n7 or n6\n",
      "n8 = n4 or n9\n",
      "n9 = n6 or n8\n",
      "\n"
     ]
    }
   ],
   "source": [
    "from dcgs import booleanlogic_preprocessing\n",
    "\n",
    "booleanlogicNum, node2num, num2node = booleanlogic_preprocessing.modeltext2nummodeltext(booleanlogic)\n",
    "dgraph, nodeList, inputNodeState = booleanlogic_preprocessing.get_interaction_network(booleanlogicNum)\n",
    "print(booleanlogicNum)"
   ]
  },
  {
   "cell_type": "markdown",
   "metadata": {},
   "source": [
    "# 3. Get minimal feedback vertex sets (FVSs)\n",
    "### get FVSs of each strongly connected component and combine them."
   ]
  },
  {
   "cell_type": "code",
   "execution_count": 3,
   "metadata": {},
   "outputs": [
    {
     "name": "stdout",
     "output_type": "stream",
     "text": [
      "FVS of each SCC:  {'n8_n9': [['n8'], ['n9']], 'n7_n5_n6': [['n7', 'n5'], ['n7', 'n6']], 'n1_n3_n2_n4': [['n1'], ['n3'], ['n4']]}\n",
      "FVS example:  ['n1', 'n5', 'n7', 'n8']\n"
     ]
    }
   ],
   "source": [
    "from dcgs import sccTofvs\n",
    "dic_hierarchy, dic_fvs, minimal_fvs = sccTofvs.scc2fvs_bruteforce(dgraph)\n",
    "print('FVS of each SCC: ',dic_fvs)\n",
    "print('FVS example: ',minimal_fvs)"
   ]
  },
  {
   "cell_type": "markdown",
   "metadata": {},
   "source": [
    "# 4. Get point attractors\n",
    "### get point attractors from canalized state set of FVS"
   ]
  },
  {
   "cell_type": "code",
   "execution_count": 4,
   "metadata": {
    "scrolled": true
   },
   "outputs": [
    {
     "name": "stdout",
     "output_type": "stream",
     "text": [
      "Point attractors:  ['010010100', '010010111', '101110011', '101110111']\n"
     ]
    }
   ],
   "source": [
    "from dcgs import attractorlandscapeSeeker\n",
    "CSS, state_origin = attractorlandscapeSeeker.get_canalized_states(booleanlogicNum, dgraph, nodeList, inputNodeState, [minimal_fvs])\n",
    "paStr,paDic = attractorlandscapeSeeker.get_pointattractorFromCSS(booleanlogicNum, CSS)\n",
    "print('Point attractors: ',paStr)"
   ]
  },
  {
   "cell_type": "markdown",
   "metadata": {},
   "source": [
    "# 5. Get control sets for global stabilization using DCGS\n",
    "### get control sets (canalizing sets) for global stabilization of a target attractor"
   ]
  },
  {
   "cell_type": "code",
   "execution_count": 5,
   "metadata": {},
   "outputs": [
    {
     "name": "stdout",
     "output_type": "stream",
     "text": [
      "control sets (canalizing sets) for each FVS of each SCC:  {'n1_n3_n2_n4': [['n1'], ['n3'], ['n4'], ['n1'], ['n3'], ['n4'], ['n1'], ['n3'], ['n4'], ['n1'], ['n3'], ['n4']], 'n7_n5_n6': [['n7'], ['n7'], ['n7'], ['n7'], ['n7'], ['n7'], ['n7'], ['n7'], ['n7'], ['n7'], ['n7'], ['n7']], 'n8_n9': [[]]}\n"
     ]
    }
   ],
   "source": [
    "from dcgs import Main\n",
    "targetattractor = paStr[3]\n",
    "dic_CS,dic_cCS, dic_fvs = Main.algorithm(booleanlogicNum, targetattractor)\n",
    "print('control sets (canalizing sets) for each FVS of each SCC: ',dic_CS)"
   ]
  },
  {
   "cell_type": "markdown",
   "metadata": {},
   "source": [
    "### aggregate canalizing sets of each SCC"
   ]
  },
  {
   "cell_type": "code",
   "execution_count": 6,
   "metadata": {},
   "outputs": [
    {
     "name": "stdout",
     "output_type": "stream",
     "text": [
      "[['n1', 'n7'], ['n3', 'n7'], ['n4', 'n7']]\n"
     ]
    }
   ],
   "source": [
    "import copy\n",
    "controlSet = []\n",
    "for scc in dic_CS:\n",
    "    csList = dic_CS[scc]\n",
    "    if csList == [[]]:\n",
    "        continue\n",
    "    if controlSet == []:\n",
    "        controlSet = csList.copy()\n",
    "        continue\n",
    "    newcontrolSetlist = []\n",
    "    controlSet_copy = controlSet.copy()\n",
    "    for cs in csList:\n",
    "        for cs_origin in controlSet_copy:\n",
    "            newcontrolSetlist.append(cs_origin+cs)\n",
    "    controlSet = newcontrolSetlist.copy()\n",
    "controlset_filtered = []\n",
    "for x in controlSet:\n",
    "    if x not in controlset_filtered:\n",
    "        controlset_filtered.append(x)\n",
    "print(controlset_filtered)"
   ]
  },
  {
   "cell_type": "markdown",
   "metadata": {},
   "source": [
    "# 6. Compare the canalizing sets with the CKs from the brute force CK algorithm"
   ]
  },
  {
   "cell_type": "code",
   "execution_count": 7,
   "metadata": {},
   "outputs": [
    {
     "name": "stdout",
     "output_type": "stream",
     "text": [
      "[('n1', 'n7'), ('n7', 'n4'), ('n7', 'n3')]\n"
     ]
    }
   ],
   "source": [
    "from dcgs import bruteforceCK\n",
    "CK = bruteforceCK.algorithm(booleanlogicNum, targetattractor)\n",
    "print(CK)"
   ]
  }
 ],
 "metadata": {
  "kernelspec": {
   "display_name": "Python 3",
   "language": "python",
   "name": "python3"
  },
  "language_info": {
   "codemirror_mode": {
    "name": "ipython",
    "version": 3
   },
   "file_extension": ".py",
   "mimetype": "text/x-python",
   "name": "python",
   "nbconvert_exporter": "python",
   "pygments_lexer": "ipython3",
   "version": "3.8.8"
  }
 },
 "nbformat": 4,
 "nbformat_minor": 2
}
